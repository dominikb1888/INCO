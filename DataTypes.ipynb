{
 "cells": [
  {
   "cell_type": "markdown",
   "id": "17d8bac7-a140-4486-a9b0-56d79290ba8b",
   "metadata": {},
   "source": [
    "# Data Types and Data Structures"
   ]
  },
  {
   "cell_type": "markdown",
   "id": "c598d5fa-8677-4ee0-9479-b4c1ecf8cb2f",
   "metadata": {},
   "source": [
    "\n",
    "\n"
   ]
  },
  {
   "cell_type": "markdown",
   "id": "724db5bc-6ace-4815-aceb-9263389fd33e",
   "metadata": {
    "tags": []
   },
   "source": [
    "## Primitive Data Structures"
   ]
  },
  {
   "cell_type": "markdown",
   "id": "73bea883-010f-49d2-a199-364de280bc2a",
   "metadata": {},
   "source": [
    "https://www.datacamp.com/community/tutorials/data-structures-python"
   ]
  },
  {
   "cell_type": "code",
   "execution_count": null,
   "id": "5f3f625c-bd82-464d-a98e-7235082fe407",
   "metadata": {},
   "outputs": [],
   "source": []
  },
  {
   "cell_type": "markdown",
   "id": "c3bfae44-72ff-4c76-ae84-ea1d4439c425",
   "metadata": {},
   "source": [
    "### Integer\n",
    "\n"
   ]
  },
  {
   "cell_type": "code",
   "execution_count": 46,
   "id": "939c2d8f-abe3-4033-a6ab-d6fccdd0703e",
   "metadata": {},
   "outputs": [
    {
     "data": {
      "text/plain": [
       "int"
      ]
     },
     "execution_count": 46,
     "metadata": {},
     "output_type": "execute_result"
    }
   ],
   "source": [
    "a_int = 1\n",
    "type(a_int)"
   ]
  },
  {
   "cell_type": "markdown",
   "id": "bb0196a0-1ac6-4d68-b4f3-ee2def8c87d7",
   "metadata": {},
   "source": [
    "### Float"
   ]
  },
  {
   "cell_type": "code",
   "execution_count": 45,
   "id": "432a21d4-fb53-4d08-9392-b358d9a84ba8",
   "metadata": {},
   "outputs": [
    {
     "data": {
      "text/plain": [
       "float"
      ]
     },
     "execution_count": 45,
     "metadata": {},
     "output_type": "execute_result"
    }
   ],
   "source": [
    "b_float = 1.0\n",
    "type(b_float)"
   ]
  },
  {
   "cell_type": "code",
   "execution_count": 47,
   "id": "a18a3f89-df38-458c-9cd0-03f5093a6473",
   "metadata": {},
   "outputs": [
    {
     "data": {
      "text/plain": [
       "str"
      ]
     },
     "execution_count": 47,
     "metadata": {},
     "output_type": "execute_result"
    }
   ],
   "source": [
    "c_string = \"1.0\"\n",
    "type(c_string)"
   ]
  },
  {
   "cell_type": "code",
   "execution_count": 43,
   "id": "45f0975e-ac97-45db-a552-20970d3b5b39",
   "metadata": {},
   "outputs": [
    {
     "data": {
      "text/plain": [
       "bool"
      ]
     },
     "execution_count": 43,
     "metadata": {},
     "output_type": "execute_result"
    }
   ],
   "source": [
    "d_boolean = True\n",
    "type(d_boolean)"
   ]
  },
  {
   "cell_type": "code",
   "execution_count": 37,
   "id": "85bfa2fb-21cd-45cd-b9b5-6151c0441152",
   "metadata": {},
   "outputs": [
    {
     "name": "stdout",
     "output_type": "stream",
     "text": [
      "True\n"
     ]
    }
   ],
   "source": [
    "if d == 1:\n",
    "    print('True')"
   ]
  },
  {
   "cell_type": "code",
   "execution_count": null,
   "id": "a7c8dc7c-5d53-45ac-b1ea-3e256f9be8a5",
   "metadata": {},
   "outputs": [],
   "source": [
    "dir(a_int)"
   ]
  },
  {
   "cell_type": "code",
   "execution_count": null,
   "id": "08980bcc-ebb8-4e15-a831-1c95e719bf9a",
   "metadata": {},
   "outputs": [],
   "source": [
    "dir(b_float)"
   ]
  },
  {
   "cell_type": "code",
   "execution_count": null,
   "id": "f891543d-ca69-4e54-8c17-5e233ca6c385",
   "metadata": {},
   "outputs": [],
   "source": [
    "dir(c_string)"
   ]
  },
  {
   "cell_type": "code",
   "execution_count": null,
   "id": "26fc9b63-a7da-422e-9788-3538d033bc29",
   "metadata": {},
   "outputs": [],
   "source": [
    "dir(d_boolean)"
   ]
  },
  {
   "cell_type": "markdown",
   "id": "464c561a-7ebc-4db8-9199-eed0767048a6",
   "metadata": {
    "tags": []
   },
   "source": [
    "## Int:\n",
    "\n",
    " 'as_integer_ratio',\n",
    " 'bit_length',\n",
    " 'conjugate',\n",
    " 'denominator',\n",
    " 'from_bytes',\n",
    " 'imag',\n",
    " 'numerator',\n",
    " 'real',\n",
    " 'to_bytes'\n",
    "\n",
    "\n",
    "## Boolean:\n",
    "\n",
    " 'as_integer_ratio',\n",
    " 'bit_length',\n",
    " 'conjugate',\n",
    " 'denominator',\n",
    " 'from_bytes',\n",
    " 'imag',\n",
    " 'numerator',\n",
    " 'real',\n",
    " 'to_bytes'\n",
    "\n",
    "\n",
    "## Float:\n",
    "\n",
    " 'as_integer_ratio',\n",
    " 'conjugate',\n",
    " 'fromhex',\n",
    " 'hex',\n",
    " 'imag',\n",
    " 'is_integer',\n",
    " 'real'\n",
    "\n",
    "\n",
    "\n",
    " \n",
    " \n",
    "## String:\n",
    "\n",
    " 'capitalize',\n",
    " 'casefold',\n",
    " 'center',\n",
    " 'count',\n",
    " 'encode',\n",
    " 'endswith',\n",
    " 'expandtabs',\n",
    " 'find',\n",
    " 'format',\n",
    " 'format_map',\n",
    " 'index',\n",
    " 'isalnum',\n",
    " 'isalpha',\n",
    " 'isascii',\n",
    " 'isdecimal',\n",
    " 'isdigit',\n",
    " 'isidentifier',\n",
    " 'islower',\n",
    " 'isnumeric',\n",
    " 'isprintable',\n",
    " 'isspace',\n",
    " 'istitle',\n",
    " 'isupper',\n",
    " 'join',\n",
    " 'ljust',\n",
    " 'lower',\n",
    " 'lstrip',\n",
    " 'maketrans',\n",
    " 'partition',\n",
    " 'replace',\n",
    " 'rfind',\n",
    " 'rindex',\n",
    " 'rjust',\n",
    " 'rpartition',\n",
    " 'rsplit',\n",
    " 'rstrip',\n",
    " 'split',\n",
    " 'splitlines',\n",
    " 'startswith',\n",
    " 'strip',\n",
    " 'swapcase',\n",
    " 'title',\n",
    " 'translate',\n",
    " 'upper',\n",
    " 'zfill'"
   ]
  },
  {
   "cell_type": "markdown",
   "id": "5a499ae2-6616-4440-b31c-61f79bf2e8c1",
   "metadata": {},
   "source": [
    "### Boolean"
   ]
  },
  {
   "cell_type": "markdown",
   "id": "015f787a-2d06-472b-965d-29b018c23d74",
   "metadata": {},
   "source": [
    "### String"
   ]
  },
  {
   "cell_type": "code",
   "execution_count": 51,
   "id": "42286076-b42f-497e-8b88-67619093631e",
   "metadata": {},
   "outputs": [
    {
     "data": {
      "text/plain": [
       "2.0"
      ]
     },
     "execution_count": 51,
     "metadata": {},
     "output_type": "execute_result"
    }
   ],
   "source": [
    "c_string = \"1.0\"\n",
    "b_float = 1.0\n",
    "\n",
    "float(c_string) + b_float"
   ]
  },
  {
   "cell_type": "code",
   "execution_count": 62,
   "id": "c1cfceac-60fa-44f8-9e67-334c418719b5",
   "metadata": {},
   "outputs": [
    {
     "data": {
      "text/plain": [
       "'1.01.0'"
      ]
     },
     "execution_count": 62,
     "metadata": {},
     "output_type": "execute_result"
    }
   ],
   "source": [
    "c_string + str(b_float)"
   ]
  },
  {
   "cell_type": "code",
   "execution_count": 63,
   "id": "4e6ac454-7a03-4da8-9b65-74218b5f2fe7",
   "metadata": {},
   "outputs": [
    {
     "ename": "ValueError",
     "evalue": "invalid literal for int() with base 10: '1.0'",
     "output_type": "error",
     "traceback": [
      "\u001b[0;31m---------------------------------------------------------------------------\u001b[0m",
      "\u001b[0;31mValueError\u001b[0m                                Traceback (most recent call last)",
      "\u001b[0;32m/tmp/ipykernel_1955/3053529781.py\u001b[0m in \u001b[0;36m<module>\u001b[0;34m\u001b[0m\n\u001b[0;32m----> 1\u001b[0;31m \u001b[0mint\u001b[0m\u001b[0;34m(\u001b[0m\u001b[0mc_string\u001b[0m\u001b[0;34m)\u001b[0m\u001b[0;34m\u001b[0m\u001b[0;34m\u001b[0m\u001b[0m\n\u001b[0m",
      "\u001b[0;31mValueError\u001b[0m: invalid literal for int() with base 10: '1.0'"
     ]
    }
   ],
   "source": [
    "int(c_string)"
   ]
  },
  {
   "cell_type": "code",
   "execution_count": 68,
   "id": "a41edd63-dcf7-4842-8178-c37e7a9a4a1d",
   "metadata": {},
   "outputs": [
    {
     "data": {
      "text/plain": [
       "2"
      ]
     },
     "execution_count": 68,
     "metadata": {},
     "output_type": "execute_result"
    }
   ],
   "source": [
    "int(float(c_string)) + int(b_float)"
   ]
  },
  {
   "cell_type": "code",
   "execution_count": null,
   "id": "08be489e-fa9a-4684-bff8-e5a90b4125d1",
   "metadata": {},
   "outputs": [],
   "source": []
  },
  {
   "cell_type": "markdown",
   "id": "5bb3a880-fefd-48fe-8d15-c23c4aa580c7",
   "metadata": {},
   "source": [
    "### Extending your toolbox: Types, Typing, and Builtins\n",
    "\n",
    "Typing: https://realpython.com/python-type-checking/\n",
    "\n",
    "Builtins: https://treyhunner.com/2019/05/python-builtins-worth-learning/\n",
    "\n",
    "Builtins for checking:\n",
    "- type()\n",
    "- dir()\n",
    "- id()\n",
    "- isinstance()\n",
    "- issubclass()\n",
    "- globals()"
   ]
  },
  {
   "cell_type": "code",
   "execution_count": null,
   "id": "87f5c4fd-449f-40e8-b142-8b6e9ee4420a",
   "metadata": {},
   "outputs": [],
   "source": []
  },
  {
   "cell_type": "markdown",
   "id": "1d3fef2b-ce40-49f9-adb5-580c0717ea8e",
   "metadata": {},
   "source": [
    "## Non-Primitive Data Structures"
   ]
  },
  {
   "cell_type": "code",
   "execution_count": null,
   "id": "11abcdb1-5b99-428a-9cb6-f16216fd646d",
   "metadata": {},
   "outputs": [],
   "source": []
  },
  {
   "cell_type": "markdown",
   "id": "58838685-12de-494e-95ab-965c09c6585a",
   "metadata": {},
   "source": [
    "### List"
   ]
  },
  {
   "cell_type": "code",
   "execution_count": 77,
   "id": "a517cdf6-0f3c-4d66-bb32-03441ddfb56b",
   "metadata": {},
   "outputs": [
    {
     "name": "stdout",
     "output_type": "stream",
     "text": [
      "<class 'int'>\n",
      "<class 'int'>\n",
      "<class 'int'>\n"
     ]
    }
   ],
   "source": [
    "a_list = [1,2,3]\n",
    "b_list = [1,\"1.0\", 1.0]\n",
    "\n",
    "for b in a_list:\n",
    "    print(type(b))"
   ]
  },
  {
   "cell_type": "markdown",
   "id": "5174a1bb-22c3-46f3-af58-950d8b593cbe",
   "metadata": {},
   "source": [
    "### Array"
   ]
  },
  {
   "cell_type": "code",
   "execution_count": 86,
   "id": "49b29a92-581a-43fe-91d6-27258840bdcc",
   "metadata": {},
   "outputs": [
    {
     "data": {
      "text/plain": [
       "array.array"
      ]
     },
     "execution_count": 86,
     "metadata": {},
     "output_type": "execute_result"
    }
   ],
   "source": [
    "import array as arr\n",
    "\n",
    "a = arr.array(\"f\",[3.0,6.0,9.0])\n",
    "type(a)"
   ]
  },
  {
   "cell_type": "code",
   "execution_count": 112,
   "id": "18045dd9-79e4-48da-983f-8422cf31a107",
   "metadata": {},
   "outputs": [
    {
     "data": {
      "text/plain": [
       "2.9"
      ]
     },
     "execution_count": 112,
     "metadata": {},
     "output_type": "execute_result"
    }
   ],
   "source": [
    "dictlist = [{'age': \"1.9\"},{'age': 1}]\n",
    "\n",
    "sumlist = []\n",
    "for d in dictlist:\n",
    "    if isinstance(d['age'], int):\n",
    "        sumlist.append(float(d['age']))\n",
    "    if isinstance(d['age'], str):\n",
    "        sumlist.append(float(d['age']))\n",
    "    \n",
    "sum(sumlist)\n",
    "\n"
   ]
  },
  {
   "cell_type": "code",
   "execution_count": 102,
   "id": "de03655e-bd8a-47b2-854c-3e8b918d1ea4",
   "metadata": {},
   "outputs": [
    {
     "data": {
      "text/plain": [
       "True"
      ]
     },
     "execution_count": 102,
     "metadata": {},
     "output_type": "execute_result"
    }
   ],
   "source": []
  },
  {
   "cell_type": "markdown",
   "id": "9dbbe952-b865-48a6-84ae-042713faa317",
   "metadata": {},
   "source": [
    "### Set\n",
    "\n"
   ]
  },
  {
   "cell_type": "code",
   "execution_count": 116,
   "id": "a9155d3f-e1f3-4419-ac9f-e9c0c1c5aa9f",
   "metadata": {},
   "outputs": [
    {
     "data": {
      "text/plain": [
       "{1, 2, 3}"
      ]
     },
     "execution_count": 116,
     "metadata": {},
     "output_type": "execute_result"
    }
   ],
   "source": [
    "a_list = [1,1,1,2,2,2,2,3,3,3,3,3,3,3]\n",
    "a_set = set(a_list)\n",
    "a_set"
   ]
  },
  {
   "cell_type": "code",
   "execution_count": 118,
   "id": "f530ba5c-ece6-4aae-83b9-3bdc041fd39f",
   "metadata": {},
   "outputs": [
    {
     "data": {
      "text/plain": [
       "[1, 1, 1, 2, 2, 2, 2, 3, 3, 3, 3, 3, 3, 3]"
      ]
     },
     "execution_count": 118,
     "metadata": {},
     "output_type": "execute_result"
    }
   ],
   "source": [
    "a_list"
   ]
  },
  {
   "cell_type": "code",
   "execution_count": null,
   "id": "bad842f2-844a-4558-981f-8c2d0feeff43",
   "metadata": {},
   "outputs": [],
   "source": [
    "dir(a_list)"
   ]
  },
  {
   "cell_type": "code",
   "execution_count": null,
   "id": "3f46d277-a755-4350-9c47-329dc80141b8",
   "metadata": {},
   "outputs": [],
   "source": [
    "dir(a_set)"
   ]
  },
  {
   "cell_type": "markdown",
   "id": "699ad4d7-19a7-4e0e-9606-d12fe0e1b3f7",
   "metadata": {},
   "source": [
    " ## List\n",
    " \n",
    " 'append',\n",
    " 'clear',\n",
    " 'copy',\n",
    " 'count',\n",
    " 'extend',\n",
    " 'index',\n",
    " 'insert',\n",
    " 'pop',\n",
    " 'remove',\n",
    " 'reverse',\n",
    " 'sort'\n",
    " \n",
    " ## Set\n",
    " \n",
    " 'add',\n",
    " 'clear',\n",
    " 'copy',\n",
    " 'difference',\n",
    " 'difference_update',\n",
    " 'discard',\n",
    " 'intersection',\n",
    " 'intersection_update',\n",
    " 'isdisjoint',\n",
    " 'issubset',\n",
    " 'issuperset',\n",
    " 'pop',\n",
    " 'remove',\n",
    " 'symmetric_difference',\n",
    " 'symmetric_difference_update',\n",
    " 'union',\n",
    " 'update'"
   ]
  },
  {
   "cell_type": "markdown",
   "id": "745d60c8-d3bb-40b9-80c3-ec24899c72ee",
   "metadata": {},
   "source": [
    "## Homework\n",
    "\n",
    "Create a programmatic way to compare the methods of all the different types we discussed using sets. Only use the output of dict() and list of python types for this."
   ]
  },
  {
   "cell_type": "markdown",
   "id": "2512a209-5149-4c9d-92ca-016992637bc8",
   "metadata": {},
   "source": [
    "### Dict"
   ]
  },
  {
   "cell_type": "code",
   "execution_count": 138,
   "id": "87d375a6-89fb-4502-ae30-9391720217c3",
   "metadata": {},
   "outputs": [
    {
     "data": {
      "text/plain": [
       "'f'"
      ]
     },
     "execution_count": 138,
     "metadata": {},
     "output_type": "execute_result"
    }
   ],
   "source": [
    "testdict = { 'age': 1, 'gender': 'f', 'nationality': 'cn' }\n",
    "\n",
    "keys_1 = list(testdict.keys())\n",
    "values_1 = list(testdict.values())\n",
    "values_1[1]"
   ]
  },
  {
   "cell_type": "code",
   "execution_count": null,
   "id": "723de899-446f-49ec-98b8-77a9f2f746c6",
   "metadata": {},
   "outputs": [],
   "source": []
  },
  {
   "cell_type": "markdown",
   "id": "f2b896f2-e942-4724-8299-fdd67d66d596",
   "metadata": {},
   "source": [
    "### DefaultDict\n",
    "\n",
    "https://docs.python.org/3/library/collections.html#collections.defaultdict\n",
    "https://www.accelebrate.com/blog/using-defaultdict-python"
   ]
  },
  {
   "cell_type": "code",
   "execution_count": null,
   "id": "85ec27e2-d4a8-4689-8f61-8bcd4228b9e7",
   "metadata": {},
   "outputs": [],
   "source": [
    "import collections\n",
    "\n",
    "# Default dict allows to populate a dict with a default value.\n",
    "\n"
   ]
  },
  {
   "cell_type": "markdown",
   "id": "fe93695c-6db5-4872-afc8-0341d9e02403",
   "metadata": {},
   "source": [
    "### Dataframes (Pandas Module)\n",
    "\n",
    "Watch about Pandas Data Frame Best Practices:\n",
    "https://www.youtube.com/watch?v=4E-wBxE8mmU&t=356s"
   ]
  }
 ],
 "metadata": {
  "kernelspec": {
   "display_name": "Python 3 (ipykernel)",
   "language": "python",
   "name": "python3"
  },
  "language_info": {
   "codemirror_mode": {
    "name": "ipython",
    "version": 3
   },
   "file_extension": ".py",
   "mimetype": "text/x-python",
   "name": "python",
   "nbconvert_exporter": "python",
   "pygments_lexer": "ipython3",
   "version": "3.8.12"
  }
 },
 "nbformat": 4,
 "nbformat_minor": 5
}
