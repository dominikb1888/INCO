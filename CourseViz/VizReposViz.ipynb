{
 "cells": [
  {
   "cell_type": "code",
   "execution_count": 46,
   "id": "81d7ba3f-885b-44a4-9952-863ecdb5726f",
   "metadata": {},
   "outputs": [],
   "source": [
    "import requests\n",
    "import os\n",
    "\n",
    "from dotenv import load_dotenv\n",
    "\n",
    "load_dotenv()\n",
    "\n",
    "GHUSER = 'dominikb1888'\n",
    "GHTOKEN = os.getenv(\"GHTOKEN\")"
   ]
  },
  {
   "cell_type": "code",
   "execution_count": 47,
   "id": "22b070b6-9071-4662-bd5c-02f3a4347d55",
   "metadata": {},
   "outputs": [],
   "source": [
    "student_repos = {\n",
    "    \"rodrigobivarazevedo\": \"DATAVIZ_project\",\n",
    "    \"PrincepaulIzuogu\": \"The-trend-of-COVID-19-cases-in-Europe-over-time\",\n",
    "    \"Ikesee-Ikemefuna\": \"Innovations\",\n",
    "    \"SahanAdikaram\": \"Find-Your-Doctor-\",\n",
    "    \"Maja03\":\"visualization\",\n",
    "    \"Ekanem-obo\": \"Disease-Data-Management-and-Analysis\",\n",
    "    \"so-mb\": \"Mediplus\",\n",
    "}"
   ]
  },
  {
   "cell_type": "code",
   "execution_count": 48,
   "id": "e5942737-2398-4ce3-b0e4-cd96431ab50f",
   "metadata": {},
   "outputs": [
    {
     "ename": "TypeError",
     "evalue": "string indices must be integers",
     "output_type": "error",
     "traceback": [
      "\u001b[0;31m---------------------------------------------------------------------------\u001b[0m",
      "\u001b[0;31mTypeError\u001b[0m                                 Traceback (most recent call last)",
      "Cell \u001b[0;32mIn[48], line 21\u001b[0m\n\u001b[1;32m     19\u001b[0m repo_req \u001b[38;5;241m=\u001b[39m requests\u001b[38;5;241m.\u001b[39mget(\u001b[38;5;124mf\u001b[39m\u001b[38;5;124m\"\u001b[39m\u001b[38;5;124mhttps://api.github.com/repos/\u001b[39m\u001b[38;5;132;01m{\u001b[39;00muser\u001b[38;5;132;01m}\u001b[39;00m\u001b[38;5;124m/\u001b[39m\u001b[38;5;132;01m{\u001b[39;00mrepo\u001b[38;5;132;01m}\u001b[39;00m\u001b[38;5;124m/contents\u001b[39m\u001b[38;5;124m\"\u001b[39m, auth\u001b[38;5;241m=\u001b[39m(GHUSER, GHTOKEN))\n\u001b[1;32m     20\u001b[0m \u001b[38;5;66;03m#print(repo_req)\u001b[39;00m\n\u001b[0;32m---> 21\u001b[0m item[\u001b[38;5;124m'\u001b[39m\u001b[38;5;124mimages\u001b[39m\u001b[38;5;124m'\u001b[39m] \u001b[38;5;241m=\u001b[39m \u001b[43mfilter_images\u001b[49m\u001b[43m(\u001b[49m\u001b[43mrepo_req\u001b[49m\u001b[38;5;241;43m.\u001b[39;49m\u001b[43mjson\u001b[49m\u001b[43m(\u001b[49m\u001b[43m)\u001b[49m\u001b[43m)\u001b[49m\n\u001b[1;32m     23\u001b[0m commits_req \u001b[38;5;241m=\u001b[39m requests\u001b[38;5;241m.\u001b[39mget(\u001b[38;5;124mf\u001b[39m\u001b[38;5;124m\"\u001b[39m\u001b[38;5;124mhttps://api.github.com/repos/\u001b[39m\u001b[38;5;132;01m{\u001b[39;00muser\u001b[38;5;132;01m}\u001b[39;00m\u001b[38;5;124m/\u001b[39m\u001b[38;5;132;01m{\u001b[39;00mrepo\u001b[38;5;132;01m}\u001b[39;00m\u001b[38;5;124m/commits\u001b[39m\u001b[38;5;124m\"\u001b[39m, auth\u001b[38;5;241m=\u001b[39m(GHUSER, GHTOKEN))\n\u001b[1;32m     24\u001b[0m item[\u001b[38;5;124m'\u001b[39m\u001b[38;5;124mcommits\u001b[39m\u001b[38;5;124m'\u001b[39m] \u001b[38;5;241m=\u001b[39m commits_req\u001b[38;5;241m.\u001b[39mjson() \n",
      "Cell \u001b[0;32mIn[48], line 3\u001b[0m, in \u001b[0;36mfilter_images\u001b[0;34m(json_list)\u001b[0m\n\u001b[1;32m      1\u001b[0m \u001b[38;5;28;01mdef\u001b[39;00m \u001b[38;5;21mfilter_images\u001b[39m(json_list):\n\u001b[1;32m      2\u001b[0m     \u001b[38;5;28;01mfor\u001b[39;00m content \u001b[38;5;129;01min\u001b[39;00m json_list:\n\u001b[0;32m----> 3\u001b[0m         \u001b[38;5;28;01mif\u001b[39;00m \u001b[43mcontent\u001b[49m\u001b[43m[\u001b[49m\u001b[38;5;124;43m'\u001b[39;49m\u001b[38;5;124;43mtype\u001b[39;49m\u001b[38;5;124;43m'\u001b[39;49m\u001b[43m]\u001b[49m \u001b[38;5;241m==\u001b[39m \u001b[38;5;124m'\u001b[39m\u001b[38;5;124mfile\u001b[39m\u001b[38;5;124m'\u001b[39m \u001b[38;5;129;01mand\u001b[39;00m content[\u001b[38;5;124m'\u001b[39m\u001b[38;5;124mpath\u001b[39m\u001b[38;5;124m'\u001b[39m]\u001b[38;5;241m.\u001b[39mendswith((\u001b[38;5;124m'\u001b[39m\u001b[38;5;124m.jpg\u001b[39m\u001b[38;5;124m'\u001b[39m,\u001b[38;5;124m'\u001b[39m\u001b[38;5;124m.gif\u001b[39m\u001b[38;5;124m'\u001b[39m,\u001b[38;5;124m'\u001b[39m\u001b[38;5;124m.png\u001b[39m\u001b[38;5;124m'\u001b[39m)):\n\u001b[1;32m      4\u001b[0m             image_url \u001b[38;5;241m=\u001b[39m content[\u001b[38;5;124m'\u001b[39m\u001b[38;5;124mdownload_url\u001b[39m\u001b[38;5;124m'\u001b[39m]\n\u001b[1;32m      5\u001b[0m             \u001b[38;5;28;01mreturn\u001b[39;00m image_url\n",
      "\u001b[0;31mTypeError\u001b[0m: string indices must be integers"
     ]
    }
   ],
   "source": [
    "def filter_images(json_list):\n",
    "    for content in json_list:\n",
    "        if content['type'] == 'file' and content['path'].endswith(('.jpg','.gif','.png')):\n",
    "            image_url = content['download_url']\n",
    "            return image_url\n",
    "\n",
    "    return None\n",
    "\n",
    "\n",
    "\n",
    "repo_list = []\n",
    "for user, repo in student_repos.items():\n",
    "    item = { \"user\": user, \"repo\": repo }\n",
    "    user_req = requests.get(f\"https://api.github.com/users/{user}\", auth=(GHUSER, GHTOKEN))\n",
    "    # print(user_req.text)\n",
    "    item['avatar'] = user_req.json().get('avatar_url', None)\n",
    "    \n",
    "    \n",
    "    repo_req = requests.get(f\"https://api.github.com/repos/{user}/{repo}/contents\", auth=(GHUSER, GHTOKEN))\n",
    "    #print(repo_req)\n",
    "    item['images'] = filter_images(repo_req.json())\n",
    "\n",
    "    commits_req = requests.get(f\"https://api.github.com/repos/{user}/{repo}/commits\", auth=(GHUSER, GHTOKEN))\n",
    "    item['commits'] = commits_req.json() \n",
    "    \n",
    "    repo_list.append(item)\n",
    "    \n",
    "\n",
    "repo_list"
   ]
  },
  {
   "cell_type": "code",
   "execution_count": null,
   "id": "1c10fd44-8dfa-4547-a67e-32e69f1edaef",
   "metadata": {},
   "outputs": [],
   "source": []
  },
  {
   "cell_type": "code",
   "execution_count": null,
   "id": "a95aebba-7903-4cef-b563-de269303ee3c",
   "metadata": {},
   "outputs": [],
   "source": []
  },
  {
   "cell_type": "code",
   "execution_count": null,
   "id": "38a30a6d-4083-4070-aaad-d48c1fa53ff4",
   "metadata": {},
   "outputs": [],
   "source": []
  }
 ],
 "metadata": {
  "kernelspec": {
   "display_name": "Python 3 (ipykernel)",
   "language": "python",
   "name": "python3"
  },
  "language_info": {
   "codemirror_mode": {
    "name": "ipython",
    "version": 3
   },
   "file_extension": ".py",
   "mimetype": "text/x-python",
   "name": "python",
   "nbconvert_exporter": "python",
   "pygments_lexer": "ipython3",
   "version": "3.10.13"
  }
 },
 "nbformat": 4,
 "nbformat_minor": 5
}
