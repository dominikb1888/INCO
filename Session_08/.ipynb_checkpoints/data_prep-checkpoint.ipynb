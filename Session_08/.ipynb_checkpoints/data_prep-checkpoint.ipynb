{
 "cells": [
  {
   "cell_type": "code",
   "execution_count": null,
   "id": "a61dd27a-15df-4685-8423-2cd0c0dc96c3",
   "metadata": {},
   "outputs": [],
   "source": [
    "import pandas as pd"
   ]
  },
  {
   "cell_type": "code",
   "execution_count": null,
   "id": "454a4975-f883-464e-9bd3-33b2ff0641e7",
   "metadata": {},
   "outputs": [],
   "source": [
    "countries = pd.read_json('countries.json')\n",
    "countries.to_dict(orient = 'records')"
   ]
  },
  {
   "cell_type": "code",
   "execution_count": null,
   "id": "16f4446b-a448-4ac4-af84-ae4a5947f6fb",
   "metadata": {},
   "outputs": [],
   "source": [
    "codes = pd.read_json(\"ccodes.json\")\n",
    "codes"
   ]
  },
  {
   "cell_type": "code",
   "execution_count": null,
   "id": "a444f8f3-4e48-469a-92f8-1054f5ab36b9",
   "metadata": {},
   "outputs": [],
   "source": [
    "cm = [\n",
    " {'value': 2, 'key': 'Argentina'},\n",
    " {'value': 4, 'key': 'Australia'},\n",
    " {'value': 7, 'key': 'Austria'},\n",
    " {'value': 5, 'key': 'Belgium'},\n",
    " {'value': 9, 'key': 'Canada'},\n",
    " {'value': 1, 'key': 'China'},\n",
    " {'value': 1, 'key': 'Czechia'},\n",
    " {'value': 9, 'key': 'Denmark'},\n",
    " {'value': 1, 'key': 'Finland'},\n",
    " {'value': 38, 'key': 'France'},\n",
    " {'value': 72, 'key': 'Germany'},\n",
    " {'value': 1, 'key': 'Hungary'},\n",
    " {'value': 1, 'key': 'India'},\n",
    " {'value': 1, 'key': 'Ireland'},\n",
    " {'value': 5, 'key': 'Israel'},\n",
    " {'value': 7, 'key': 'Italy'},\n",
    " {'value': 17, 'key': 'Japan'},\n",
    " {'value': 5, 'key': 'Norway'},\n",
    " {'value': 1, 'key': 'Portugal'},\n",
    " {'value': 1, 'key': 'Spain'},\n",
    " {'value': 17, 'key': 'Sweden'},\n",
    " {'value': 24, 'key': 'Switzerland'},\n",
    " {'value': 1, 'key': 'Tunisia'},\n",
    " {'value': 379, 'key': 'United States of America'},\n",
    " {'value': 12, 'key': 'Russian Federation'},\n",
    " {'value': 93, 'key': 'United Kingdom of Great Britain and Northern Ireland'},\n",
    " {'value': 10, 'key': 'Netherlands'},\n",
    " {'value': 265, 'key': 'null'}\n",
    "]\n",
    "\n",
    "cm = {c['key']:c['value'] for c in cm}\n",
    "len(cm)"
   ]
  },
  {
   "cell_type": "code",
   "execution_count": null,
   "id": "4a1a3acb-d557-45d6-88ec-a10b6056520b",
   "metadata": {},
   "outputs": [],
   "source": [
    "codes['prizes_won'] = codes.name.map(cm)\n",
    "codes.sort_values('prizes_won', ascending=False)"
   ]
  },
  {
   "cell_type": "code",
   "execution_count": null,
   "id": "3e34bf43-bd43-46c9-ae65-75ff72fea3b3",
   "metadata": {},
   "outputs": [],
   "source": [
    "set(codes.name[codes.prizes_won.notnull()]).difference(set(cm.keys()))"
   ]
  },
  {
   "cell_type": "code",
   "execution_count": null,
   "id": "c20fa5f6-281c-4540-99f8-64248a3f6756",
   "metadata": {},
   "outputs": [],
   "source": [
    "set(cm.keys()) - set(codes.name[codes.prizes_won.notnull()]) "
   ]
  },
  {
   "cell_type": "code",
   "execution_count": null,
   "id": "8b1518d9-7b6e-4654-bc22-43b524d88c35",
   "metadata": {},
   "outputs": [],
   "source": [
    "codes['alpha-2'] = codes['alpha-2'].str.lower()"
   ]
  },
  {
   "cell_type": "code",
   "execution_count": null,
   "id": "b8c30ca4-0fad-432c-836e-2559a31cfdbe",
   "metadata": {},
   "outputs": [],
   "source": [
    "codes = codes.sort_values('prizes_won', ascending=False)\n",
    "codes[codes.prizes_won.notnull()].to_json('countries.json', orient='records')"
   ]
  },
  {
   "cell_type": "markdown",
   "id": "bb32bc3c-b413-4403-88f0-df87db7163e1",
   "metadata": {},
   "source": [
    "## Preparaing Mapping Data"
   ]
  },
  {
   "cell_type": "code",
   "execution_count": 5,
   "id": "867eabaf-0a68-46fe-820a-0986182bc542",
   "metadata": {},
   "outputs": [],
   "source": [
    "import geopandas as gpd"
   ]
  },
  {
   "cell_type": "code",
   "execution_count": null,
   "id": "e9ac6244-1668-4d58-a368-5059995390a9",
   "metadata": {},
   "outputs": [],
   "source": [
    "map = gpd.read_file('nobel-prize-laureates.geojson')\n",
    "df = pd.read_json('countries.json')"
   ]
  },
  {
   "cell_type": "code",
   "execution_count": 7,
   "id": "d545de87-ed5b-4a9e-b587-c2594362301b",
   "metadata": {},
   "outputs": [],
   "source": [
    "import plotly.express as px"
   ]
  },
  {
   "cell_type": "code",
   "execution_count": 12,
   "id": "ca539713-4c2f-4810-98b7-f4d9ef1352c4",
   "metadata": {},
   "outputs": [
    {
     "ename": "KeyError",
     "evalue": "'prizes_won'",
     "output_type": "error",
     "traceback": [
      "\u001b[0;31m---------------------------------------------------------------------------\u001b[0m",
      "\u001b[0;31mKeyError\u001b[0m                                  Traceback (most recent call last)",
      "File \u001b[0;32m/nix/store/nfk3rg5p37y0qg6czfn84kvbc9yl7414-python3.10-pandas-2.1.1/lib/python3.10/site-packages/pandas/core/indexes/base.py:3790\u001b[0m, in \u001b[0;36mIndex.get_loc\u001b[0;34m(self, key)\u001b[0m\n\u001b[1;32m   3789\u001b[0m \u001b[38;5;28;01mtry\u001b[39;00m:\n\u001b[0;32m-> 3790\u001b[0m     \u001b[38;5;28;01mreturn\u001b[39;00m \u001b[38;5;28;43mself\u001b[39;49m\u001b[38;5;241;43m.\u001b[39;49m\u001b[43m_engine\u001b[49m\u001b[38;5;241;43m.\u001b[39;49m\u001b[43mget_loc\u001b[49m\u001b[43m(\u001b[49m\u001b[43mcasted_key\u001b[49m\u001b[43m)\u001b[49m\n\u001b[1;32m   3791\u001b[0m \u001b[38;5;28;01mexcept\u001b[39;00m \u001b[38;5;167;01mKeyError\u001b[39;00m \u001b[38;5;28;01mas\u001b[39;00m err:\n",
      "File \u001b[0;32mindex.pyx:152\u001b[0m, in \u001b[0;36mpandas._libs.index.IndexEngine.get_loc\u001b[0;34m()\u001b[0m\n",
      "File \u001b[0;32mindex.pyx:181\u001b[0m, in \u001b[0;36mpandas._libs.index.IndexEngine.get_loc\u001b[0;34m()\u001b[0m\n",
      "File \u001b[0;32mpandas/_libs/hashtable_class_helper.pxi:7080\u001b[0m, in \u001b[0;36mpandas._libs.hashtable.PyObjectHashTable.get_item\u001b[0;34m()\u001b[0m\n",
      "File \u001b[0;32mpandas/_libs/hashtable_class_helper.pxi:7088\u001b[0m, in \u001b[0;36mpandas._libs.hashtable.PyObjectHashTable.get_item\u001b[0;34m()\u001b[0m\n",
      "\u001b[0;31mKeyError\u001b[0m: 'prizes_won'",
      "\nThe above exception was the direct cause of the following exception:\n",
      "\u001b[0;31mKeyError\u001b[0m                                  Traceback (most recent call last)",
      "Cell \u001b[0;32mIn[12], line 1\u001b[0m\n\u001b[0;32m----> 1\u001b[0m fig \u001b[38;5;241m=\u001b[39m px\u001b[38;5;241m.\u001b[39mchoropleth(\u001b[43mdf\u001b[49m\u001b[43m[\u001b[49m\u001b[38;5;124;43m'\u001b[39;49m\u001b[38;5;124;43mprizes_won\u001b[39;49m\u001b[38;5;124;43m'\u001b[39;49m\u001b[43m]\u001b[49m, geojson\u001b[38;5;241m=\u001b[39mdf[\u001b[38;5;124m'\u001b[39m\u001b[38;5;124mgeometry\u001b[39m\u001b[38;5;124m'\u001b[39m], locations\u001b[38;5;241m=\u001b[39m\u001b[38;5;124m'\u001b[39m\u001b[38;5;124mfips\u001b[39m\u001b[38;5;124m'\u001b[39m, color\u001b[38;5;241m=\u001b[39m\u001b[38;5;124m'\u001b[39m\u001b[38;5;124munemp\u001b[39m\u001b[38;5;124m'\u001b[39m,\n\u001b[1;32m      2\u001b[0m                            color_continuous_scale\u001b[38;5;241m=\u001b[39m\u001b[38;5;124m\"\u001b[39m\u001b[38;5;124mViridis\u001b[39m\u001b[38;5;124m\"\u001b[39m,\n\u001b[1;32m      3\u001b[0m                            range_color\u001b[38;5;241m=\u001b[39m(\u001b[38;5;241m0\u001b[39m, \u001b[38;5;241m12\u001b[39m),\n\u001b[1;32m      4\u001b[0m                            scope\u001b[38;5;241m=\u001b[39m\u001b[38;5;124m\"\u001b[39m\u001b[38;5;124musa\u001b[39m\u001b[38;5;124m\"\u001b[39m,\n\u001b[1;32m      5\u001b[0m                            labels\u001b[38;5;241m=\u001b[39m{\u001b[38;5;124m'\u001b[39m\u001b[38;5;124mprizes_won\u001b[39m\u001b[38;5;124m'\u001b[39m:\u001b[38;5;124m'\u001b[39m\u001b[38;5;124mNobel Prizes won\u001b[39m\u001b[38;5;124m'\u001b[39m}\n\u001b[1;32m      6\u001b[0m                           )\n\u001b[1;32m      7\u001b[0m fig\u001b[38;5;241m.\u001b[39mupdate_layout(margin\u001b[38;5;241m=\u001b[39m{\u001b[38;5;124m\"\u001b[39m\u001b[38;5;124mr\u001b[39m\u001b[38;5;124m\"\u001b[39m:\u001b[38;5;241m0\u001b[39m,\u001b[38;5;124m\"\u001b[39m\u001b[38;5;124mt\u001b[39m\u001b[38;5;124m\"\u001b[39m:\u001b[38;5;241m0\u001b[39m,\u001b[38;5;124m\"\u001b[39m\u001b[38;5;124ml\u001b[39m\u001b[38;5;124m\"\u001b[39m:\u001b[38;5;241m0\u001b[39m,\u001b[38;5;124m\"\u001b[39m\u001b[38;5;124mb\u001b[39m\u001b[38;5;124m\"\u001b[39m:\u001b[38;5;241m0\u001b[39m})\n\u001b[1;32m      8\u001b[0m fig\u001b[38;5;241m.\u001b[39mshow()\n",
      "File \u001b[0;32m/nix/store/5522dijqdd6sb4g0q0m605nlh88ca12x-python3.10-geopandas-0.14.1/lib/python3.10/site-packages/geopandas/geodataframe.py:1474\u001b[0m, in \u001b[0;36mGeoDataFrame.__getitem__\u001b[0;34m(self, key)\u001b[0m\n\u001b[1;32m   1468\u001b[0m \u001b[38;5;28;01mdef\u001b[39;00m \u001b[38;5;21m__getitem__\u001b[39m(\u001b[38;5;28mself\u001b[39m, key):\n\u001b[1;32m   1469\u001b[0m \u001b[38;5;250m    \u001b[39m\u001b[38;5;124;03m\"\"\"\u001b[39;00m\n\u001b[1;32m   1470\u001b[0m \u001b[38;5;124;03m    If the result is a column containing only 'geometry', return a\u001b[39;00m\n\u001b[1;32m   1471\u001b[0m \u001b[38;5;124;03m    GeoSeries. If it's a DataFrame with any columns of GeometryDtype,\u001b[39;00m\n\u001b[1;32m   1472\u001b[0m \u001b[38;5;124;03m    return a GeoDataFrame.\u001b[39;00m\n\u001b[1;32m   1473\u001b[0m \u001b[38;5;124;03m    \"\"\"\u001b[39;00m\n\u001b[0;32m-> 1474\u001b[0m     result \u001b[38;5;241m=\u001b[39m \u001b[38;5;28;43msuper\u001b[39;49m\u001b[43m(\u001b[49m\u001b[43m)\u001b[49m\u001b[38;5;241;43m.\u001b[39;49m\u001b[38;5;21;43m__getitem__\u001b[39;49m\u001b[43m(\u001b[49m\u001b[43mkey\u001b[49m\u001b[43m)\u001b[49m\n\u001b[1;32m   1475\u001b[0m     \u001b[38;5;66;03m# Custom logic to avoid waiting for pandas GH51895\u001b[39;00m\n\u001b[1;32m   1476\u001b[0m     \u001b[38;5;66;03m# result is not geometry dtype for multi-indexes\u001b[39;00m\n\u001b[1;32m   1477\u001b[0m     \u001b[38;5;28;01mif\u001b[39;00m (\n\u001b[1;32m   1478\u001b[0m         pd\u001b[38;5;241m.\u001b[39mapi\u001b[38;5;241m.\u001b[39mtypes\u001b[38;5;241m.\u001b[39mis_scalar(key)\n\u001b[1;32m   1479\u001b[0m         \u001b[38;5;129;01mand\u001b[39;00m key \u001b[38;5;241m==\u001b[39m \u001b[38;5;124m\"\u001b[39m\u001b[38;5;124m\"\u001b[39m\n\u001b[0;32m   (...)\u001b[0m\n\u001b[1;32m   1482\u001b[0m         \u001b[38;5;129;01mand\u001b[39;00m \u001b[38;5;129;01mnot\u001b[39;00m is_geometry_type(result)\n\u001b[1;32m   1483\u001b[0m     ):\n",
      "File \u001b[0;32m/nix/store/nfk3rg5p37y0qg6czfn84kvbc9yl7414-python3.10-pandas-2.1.1/lib/python3.10/site-packages/pandas/core/frame.py:3896\u001b[0m, in \u001b[0;36mDataFrame.__getitem__\u001b[0;34m(self, key)\u001b[0m\n\u001b[1;32m   3894\u001b[0m \u001b[38;5;28;01mif\u001b[39;00m \u001b[38;5;28mself\u001b[39m\u001b[38;5;241m.\u001b[39mcolumns\u001b[38;5;241m.\u001b[39mnlevels \u001b[38;5;241m>\u001b[39m \u001b[38;5;241m1\u001b[39m:\n\u001b[1;32m   3895\u001b[0m     \u001b[38;5;28;01mreturn\u001b[39;00m \u001b[38;5;28mself\u001b[39m\u001b[38;5;241m.\u001b[39m_getitem_multilevel(key)\n\u001b[0;32m-> 3896\u001b[0m indexer \u001b[38;5;241m=\u001b[39m \u001b[38;5;28;43mself\u001b[39;49m\u001b[38;5;241;43m.\u001b[39;49m\u001b[43mcolumns\u001b[49m\u001b[38;5;241;43m.\u001b[39;49m\u001b[43mget_loc\u001b[49m\u001b[43m(\u001b[49m\u001b[43mkey\u001b[49m\u001b[43m)\u001b[49m\n\u001b[1;32m   3897\u001b[0m \u001b[38;5;28;01mif\u001b[39;00m is_integer(indexer):\n\u001b[1;32m   3898\u001b[0m     indexer \u001b[38;5;241m=\u001b[39m [indexer]\n",
      "File \u001b[0;32m/nix/store/nfk3rg5p37y0qg6czfn84kvbc9yl7414-python3.10-pandas-2.1.1/lib/python3.10/site-packages/pandas/core/indexes/base.py:3797\u001b[0m, in \u001b[0;36mIndex.get_loc\u001b[0;34m(self, key)\u001b[0m\n\u001b[1;32m   3792\u001b[0m     \u001b[38;5;28;01mif\u001b[39;00m \u001b[38;5;28misinstance\u001b[39m(casted_key, \u001b[38;5;28mslice\u001b[39m) \u001b[38;5;129;01mor\u001b[39;00m (\n\u001b[1;32m   3793\u001b[0m         \u001b[38;5;28misinstance\u001b[39m(casted_key, abc\u001b[38;5;241m.\u001b[39mIterable)\n\u001b[1;32m   3794\u001b[0m         \u001b[38;5;129;01mand\u001b[39;00m \u001b[38;5;28many\u001b[39m(\u001b[38;5;28misinstance\u001b[39m(x, \u001b[38;5;28mslice\u001b[39m) \u001b[38;5;28;01mfor\u001b[39;00m x \u001b[38;5;129;01min\u001b[39;00m casted_key)\n\u001b[1;32m   3795\u001b[0m     ):\n\u001b[1;32m   3796\u001b[0m         \u001b[38;5;28;01mraise\u001b[39;00m InvalidIndexError(key)\n\u001b[0;32m-> 3797\u001b[0m     \u001b[38;5;28;01mraise\u001b[39;00m \u001b[38;5;167;01mKeyError\u001b[39;00m(key) \u001b[38;5;28;01mfrom\u001b[39;00m \u001b[38;5;21;01merr\u001b[39;00m\n\u001b[1;32m   3798\u001b[0m \u001b[38;5;28;01mexcept\u001b[39;00m \u001b[38;5;167;01mTypeError\u001b[39;00m:\n\u001b[1;32m   3799\u001b[0m     \u001b[38;5;66;03m# If we have a listlike key, _check_indexing_error will raise\u001b[39;00m\n\u001b[1;32m   3800\u001b[0m     \u001b[38;5;66;03m#  InvalidIndexError. Otherwise we fall through and re-raise\u001b[39;00m\n\u001b[1;32m   3801\u001b[0m     \u001b[38;5;66;03m#  the TypeError.\u001b[39;00m\n\u001b[1;32m   3802\u001b[0m     \u001b[38;5;28mself\u001b[39m\u001b[38;5;241m.\u001b[39m_check_indexing_error(key)\n",
      "\u001b[0;31mKeyError\u001b[0m: 'prizes_won'"
     ]
    }
   ],
   "source": [
    "fig = px.choropleth(df['prizes_won'], geojson=map, locations='fips', color='unemp',\n",
    "                           color_continuous_scale=\"Viridis\",\n",
    "                           range_color=(0, 12),\n",
    "                           scope=\"usa\",\n",
    "                           labels={'prizes_won':'Nobel Prizes won'}\n",
    "                          )\n",
    "fig.update_layout(margin={\"r\":0,\"t\":0,\"l\":0,\"b\":0})\n",
    "fig.show()"
   ]
  },
  {
   "cell_type": "code",
   "execution_count": null,
   "id": "69c4c653-6637-490d-97c6-242e37418ee3",
   "metadata": {},
   "outputs": [],
   "source": []
  }
 ],
 "metadata": {
  "kernelspec": {
   "display_name": "Python 3 (ipykernel)",
   "language": "python",
   "name": "python3"
  },
  "language_info": {
   "codemirror_mode": {
    "name": "ipython",
    "version": 3
   },
   "file_extension": ".py",
   "mimetype": "text/x-python",
   "name": "python",
   "nbconvert_exporter": "python",
   "pygments_lexer": "ipython3",
   "version": "3.10.13"
  }
 },
 "nbformat": 4,
 "nbformat_minor": 5
}
