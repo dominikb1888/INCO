{
 "cells": [
  {
   "cell_type": "raw",
   "id": "ed941ac3-11bf-4e19-a1ee-59be3e368d24",
   "metadata": {},
   "source": [
    "# pip install numpy pandas requests\n",
    "\n",
    "\n",
    "# Jupyter Lab\n",
    "Standlone Desktop App: https://github.com/jupyterlab/jupyterlab-desktop\n",
    "\n",
    "VScode Extension: https://code.visualstudio.com/docs/datascience/jupyter-notebooks"
   ]
  },
  {
   "cell_type": "markdown",
   "id": "a7cbc6bb-431f-4b9c-b595-f3c0c7125962",
   "metadata": {},
   "source": [
    "# Python Recap"
   ]
  },
  {
   "cell_type": "markdown",
   "id": "dd7125c2-5199-4e54-91b8-a318293afab6",
   "metadata": {},
   "source": [
    "1. Rebuilding programming from scratch\n",
    "2. Variables, Data Types, and Control Structures\n",
    "3. Functions"
   ]
  },
  {
   "cell_type": "markdown",
   "id": "ae0139a7-3f37-47e8-b70a-4bebee2607ec",
   "metadata": {
    "tags": []
   },
   "source": [
    "## General Thoughts\n",
    "\n",
    "Programming is about automation. You try to avoid doing repetitive actions. You do so by abstraction on the action away from the particular case, i.e. you try and find similarities on a higher level.\n",
    "\n",
    "## Rebuilding last year's exam questions from scratch\n",
    "\n",
    "In order to understand all the intricate steps of abstraction. You are doing every day (but sometimes have to make explicit to a machine), we are going about last year's exercise step by step.\n",
    "\n",
    "### Exam Question\n",
    "\n",
    "a) You receive a list of ICD10-Codes (International Classification of Diseases) and are asked to translate them to their String-Representations and provide a description in a tabular format.\n",
    "\n",
    "Write a Python Program that implements the following Instructions: \n",
    "\n",
    "- Use \"http://icd10api.com/?\" to get the data for each code (Parameters: code=, desc=long, r=json)\n",
    "- Store them in an adequate data structure\n",
    "- Transform this data structure into a table containing two columns (Name, Description). Remember to filter and set the index accordingly\n",
    "\n",
    "Codes:\n",
    "\n",
    "- \"U07.1\"\n",
    "- \"F42\"\n",
    "- \"G93.\"\n",
    "\n",
    "Hint:\n",
    "\n",
    "- Make use of comments to describe your approach in plain English. \n",
    "- Also use comments, if you cannot find a proper solution to a subproblem.\n",
    "- Remove the \"pass\" statement from the code before editing a function.`"
   ]
  },
  {
   "cell_type": "code",
   "execution_count": 7,
   "id": "6b712585-405e-4561-a091-64d68ba1ef55",
   "metadata": {
    "tags": []
   },
   "outputs": [],
   "source": [
    "import pandas as pd\n",
    "import requests\n",
    "\n",
    "def get_icd_codes(icd_codes):\n",
    "    pass\n",
    "\n",
    "def print_icd_codes():\n",
    "    pass"
   ]
  },
  {
   "cell_type": "markdown",
   "id": "e5c5f114-eb7a-4853-8be1-e5029ef26765",
   "metadata": {},
   "source": [
    "### Understanding the task\n",
    "\n",
    "Please get me the \"real names\" (String Representations) behind these codes (ICD10).\n",
    "\n",
    "What would be ways we could be doing that?"
   ]
  },
  {
   "cell_type": "markdown",
   "id": "bb166253-6531-4879-a6ca-b48c74b3059a",
   "metadata": {},
   "source": [
    "#### 1. Browse to http://ICD10api.com and get them manually? (Use Browser and Excel, note down your steps) \n",
    "\n",
    "- \"U07.1\"\n",
    "- \"F42\"\n",
    "- \"G93.\""
   ]
  },
  {
   "cell_type": "markdown",
   "id": "2191d1f9-5b89-40ab-9462-ff72f428444b",
   "metadata": {},
   "source": [
    "--> YOUR ANSWER"
   ]
  },
  {
   "cell_type": "markdown",
   "id": "d72d164e-8d8c-4679-a593-43e4f816c15d",
   "metadata": {},
   "source": [
    "#### Question: How scalable would these approaches be? Estimate the time you would need to do it manually vs. writing the program. How many codes would it take for the automation to be faster than your manual approach."
   ]
  },
  {
   "cell_type": "markdown",
   "id": "1d2f32bd-e6ab-42a3-84c8-feafeab42143",
   "metadata": {
    "tags": []
   },
   "source": [
    "--> YOUR ANSWER"
   ]
  },
  {
   "cell_type": "markdown",
   "id": "aba1cc69-514c-41b3-a7e8-53830e0ea530",
   "metadata": {},
   "source": [
    "#### 2. Use a command-line tool to get each of the manually? (Use cURL and Excel)\n",
    "\n",
    "Read more on cURL here:\n",
    "https://flaviocopes.com/http-curl/#perform-an-http-get-request"
   ]
  },
  {
   "cell_type": "markdown",
   "id": "ae8f4f4a-177b-4145-bf25-c6c33df9b970",
   "metadata": {},
   "source": [
    "--> YOUR ANSWER"
   ]
  },
  {
   "cell_type": "code",
   "execution_count": null,
   "id": "8eb28cba-c415-4e0d-a18a-af1af8f65288",
   "metadata": {
    "tags": []
   },
   "outputs": [],
   "source": [
    "50% Automation:     \n",
    "curl \"http://icd10api.com/?code=G93.&desc=short&r=json\" >> icd10.txt\n",
    "curl \"http://icd10api.com/?code=U07.1&desc=short&r=json\" >> icd10.txt\n",
    "curl \"http://icd10api.com/?code=F42&desc=short&r=json\" >> icd10.txt\n",
    "\n",
    "20% Manual Labour\n",
    "Transform it to json by separating each entry with a comma and putting everything into square brackets\n",
    "\n",
    "30% Excel\n",
    "Open icd10.txt in excel and remove unnecessary columns "
   ]
  },
  {
   "cell_type": "markdown",
   "id": "3d99914d-4615-4edb-acfa-6ad7c391bc5c",
   "metadata": {},
   "source": [
    "#### 3. Use python and get each of them individually? (Use Requests library)"
   ]
  },
  {
   "cell_type": "markdown",
   "id": "5b4c51cd-a1e6-4992-b734-be1c98613fcd",
   "metadata": {},
   "source": [
    "--> YOUR ANSWER"
   ]
  },
  {
   "cell_type": "code",
   "execution_count": 28,
   "id": "a86afaec-2556-400b-975a-3efa89e20198",
   "metadata": {
    "tags": []
   },
   "outputs": [
    {
     "data": {
      "text/plain": [
       "<Response [200]>"
      ]
     },
     "execution_count": 28,
     "metadata": {},
     "output_type": "execute_result"
    }
   ],
   "source": [
    "import requests as req\n",
    "\n",
    "req.get(\"http://icd10api.com/?code=G93.&desc=short&r=json\")"
   ]
  },
  {
   "cell_type": "code",
   "execution_count": 29,
   "id": "fb3531a4-7f6d-4909-a658-5477bddaf12f",
   "metadata": {
    "tags": []
   },
   "outputs": [
    {
     "data": {
      "text/plain": [
       "['__attrs__',\n",
       " '__bool__',\n",
       " '__class__',\n",
       " '__delattr__',\n",
       " '__dict__',\n",
       " '__dir__',\n",
       " '__doc__',\n",
       " '__enter__',\n",
       " '__eq__',\n",
       " '__exit__',\n",
       " '__format__',\n",
       " '__ge__',\n",
       " '__getattribute__',\n",
       " '__getstate__',\n",
       " '__gt__',\n",
       " '__hash__',\n",
       " '__init__',\n",
       " '__init_subclass__',\n",
       " '__iter__',\n",
       " '__le__',\n",
       " '__lt__',\n",
       " '__module__',\n",
       " '__ne__',\n",
       " '__new__',\n",
       " '__nonzero__',\n",
       " '__reduce__',\n",
       " '__reduce_ex__',\n",
       " '__repr__',\n",
       " '__setattr__',\n",
       " '__setstate__',\n",
       " '__sizeof__',\n",
       " '__str__',\n",
       " '__subclasshook__',\n",
       " '__weakref__',\n",
       " '_content',\n",
       " '_content_consumed',\n",
       " '_next',\n",
       " 'apparent_encoding',\n",
       " 'close',\n",
       " 'connection',\n",
       " 'content',\n",
       " 'cookies',\n",
       " 'elapsed',\n",
       " 'encoding',\n",
       " 'headers',\n",
       " 'history',\n",
       " 'is_permanent_redirect',\n",
       " 'is_redirect',\n",
       " 'iter_content',\n",
       " 'iter_lines',\n",
       " 'json',\n",
       " 'links',\n",
       " 'next',\n",
       " 'ok',\n",
       " 'raise_for_status',\n",
       " 'raw',\n",
       " 'reason',\n",
       " 'request',\n",
       " 'status_code',\n",
       " 'text',\n",
       " 'url']"
      ]
     },
     "execution_count": 29,
     "metadata": {},
     "output_type": "execute_result"
    }
   ],
   "source": [
    "dir(req.get(\"http://icd10api.com/?code=G93.&desc=short&r=json\"))"
   ]
  },
  {
   "cell_type": "code",
   "execution_count": 30,
   "id": "e84f9d65-ae33-4c29-a37a-3f6d83aa61f3",
   "metadata": {
    "tags": []
   },
   "outputs": [
    {
     "data": {
      "text/plain": [
       "{'Name': 'F42',\n",
       " 'Description': 'Obsessive-compulsive disorder',\n",
       " 'Valid': '0',\n",
       " 'Inclusions': [],\n",
       " 'ExcludesOne': [],\n",
       " 'ExcludesTwo': ['obsessive-compulsive personality (disorder) (F60.5)',\n",
       "  'obsessive-compulsive symptoms occurring in depression (F32-F33)',\n",
       "  'obsessive-compulsive symptoms occurring in schizophrenia (F20.-)'],\n",
       " 'Type': 'ICD-10-CM',\n",
       " 'Response': 'True'}"
      ]
     },
     "execution_count": 30,
     "metadata": {},
     "output_type": "execute_result"
    }
   ],
   "source": [
    "req.get(\"http://icd10api.com/?code=G93.&desc=short&r=json\").json() "
   ]
  },
  {
   "cell_type": "code",
   "execution_count": 31,
   "id": "4a2d592a-cb31-4da5-87e4-329784115a66",
   "metadata": {
    "tags": []
   },
   "outputs": [
    {
     "data": {
      "text/plain": [
       "{'Name': 'U071',\n",
       " 'Description': 'COVID-19, virus identified',\n",
       " 'Valid': '1',\n",
       " 'Inclusions': [],\n",
       " 'ExcludesOne': [],\n",
       " 'ExcludesTwo': [],\n",
       " 'Type': 'ICD-10-CM',\n",
       " 'Response': 'True'}"
      ]
     },
     "execution_count": 31,
     "metadata": {},
     "output_type": "execute_result"
    }
   ],
   "source": [
    "req.get(\"http://icd10api.com/?code=U07.1&desc=short&r=json\").json() "
   ]
  },
  {
   "cell_type": "code",
   "execution_count": 35,
   "id": "eca0cba4-7c7d-49b3-abd5-800106bc813f",
   "metadata": {},
   "outputs": [
    {
     "data": {
      "text/plain": [
       "{'Name': 'F42',\n",
       " 'Description': 'Obsessive-compulsive disorder',\n",
       " 'Valid': '0',\n",
       " 'Inclusions': [],\n",
       " 'ExcludesOne': [],\n",
       " 'ExcludesTwo': ['obsessive-compulsive personality (disorder) (F60.5)',\n",
       "  'obsessive-compulsive symptoms occurring in depression (F32-F33)',\n",
       "  'obsessive-compulsive symptoms occurring in schizophrenia (F20.-)'],\n",
       " 'Type': 'ICD-10-CM',\n",
       " 'Response': 'True'}"
      ]
     },
     "execution_count": 35,
     "metadata": {},
     "output_type": "execute_result"
    }
   ],
   "source": [
    "req.get(\"http://icd10api.com/?code=F42&desc=short&r=json\").json()"
   ]
  },
  {
   "cell_type": "code",
   "execution_count": 36,
   "id": "8c4f7758-3daf-48f7-a3b5-3b3259504af9",
   "metadata": {},
   "outputs": [
    {
     "data": {
      "text/plain": [
       "{'Name': 'F42',\n",
       " 'Description': 'Obsessive-compulsive disorder',\n",
       " 'Valid': '0',\n",
       " 'Inclusions': [],\n",
       " 'ExcludesOne': [],\n",
       " 'ExcludesTwo': ['obsessive-compulsive personality (disorder) (F60.5)',\n",
       "  'obsessive-compulsive symptoms occurring in depression (F32-F33)',\n",
       "  'obsessive-compulsive symptoms occurring in schizophrenia (F20.-)'],\n",
       " 'Type': 'ICD-10-CM',\n",
       " 'Response': 'True'}"
      ]
     },
     "execution_count": 36,
     "metadata": {},
     "output_type": "execute_result"
    }
   ],
   "source": [
    "req.get(\"http://icd10api.com/?code=G93.&desc=short&r=json\").json() \n",
    "req.get(\"http://icd10api.com/?code=U07.1&desc=short&r=json\").json() \n",
    "req.get(\"http://icd10api.com/?code=F42&desc=short&r=json\").json()"
   ]
  },
  {
   "cell_type": "markdown",
   "id": "446f9b6b-1830-426a-8f3c-c344d214f357",
   "metadata": {},
   "source": [
    "## Variables, Data Types, and Control Structures\n",
    "\n",
    "Which variables can you identify in the above example? Why would it make sense to introduce them?\n",
    "\n",
    "Let's try and work our way from where we are:"
   ]
  },
  {
   "cell_type": "code",
   "execution_count": 40,
   "id": "2676ee29-d0c5-42b7-9dc2-b69eb11917e1",
   "metadata": {},
   "outputs": [
    {
     "name": "stdout",
     "output_type": "stream",
     "text": [
      "{'Name': 'G93', 'Description': 'Other disorders of brain', 'Valid': '0', 'Inclusions': [], 'ExcludesOne': [], 'ExcludesTwo': [], 'Type': 'ICD-10-CM', 'Response': 'True'} {'Name': 'U071', 'Description': 'COVID-19, virus identified', 'Valid': '1', 'Inclusions': [], 'ExcludesOne': [], 'ExcludesTwo': [], 'Type': 'ICD-10-CM', 'Response': 'True'} {'Name': 'F42', 'Description': 'Obsessive-compulsive disorder', 'Valid': '0', 'Inclusions': [], 'ExcludesOne': [], 'ExcludesTwo': ['obsessive-compulsive personality (disorder) (F60.5)', 'obsessive-compulsive symptoms occurring in depression (F32-F33)', 'obsessive-compulsive symptoms occurring in schizophrenia (F20.-)'], 'Type': 'ICD-10-CM', 'Response': 'True'}\n"
     ]
    }
   ],
   "source": [
    "a = req.get(\"http://icd10api.com/?code=G93.&desc=short&r=json\").json() \n",
    "b = req.get(\"http://icd10api.com/?code=U07.1&desc=short&r=json\").json() \n",
    "c = req.get(\"http://icd10api.com/?code=F42&desc=short&r=json\").json()\n",
    "\n",
    "print(a, b, c)"
   ]
  },
  {
   "cell_type": "markdown",
   "id": "cbf975c4-2ae5-4589-ab54-0dadf5816960",
   "metadata": {},
   "source": [
    "### DRY - Don't Repeat Yourself\n",
    "\n",
    "Let's refactor our simple example. One of the best practices in Software engineering is DRY (Don't repeat yourself). So, where is the above code repetitive?"
   ]
  },
  {
   "cell_type": "markdown",
   "id": "5ff4c695-0f74-40b2-a231-7f18931623ce",
   "metadata": {},
   "source": [
    "- json() is used 3 times\n",
    "- req.get is used 3 times\n",
    "- The URL (https://icd10api.com/) is used 3 times\n",
    "- The code parameter (?code=<...>) is used 3 times\n",
    "- The parameters to the url (\"&desc=short&r=json\") are used 3 times"
   ]
  },
  {
   "cell_type": "code",
   "execution_count": 47,
   "id": "2a34360d-dbd1-45b3-a21b-680a7a7984bb",
   "metadata": {},
   "outputs": [
    {
     "data": {
      "text/html": [
       "<div>\n",
       "<style scoped>\n",
       "    .dataframe tbody tr th:only-of-type {\n",
       "        vertical-align: middle;\n",
       "    }\n",
       "\n",
       "    .dataframe tbody tr th {\n",
       "        vertical-align: top;\n",
       "    }\n",
       "\n",
       "    .dataframe thead th {\n",
       "        text-align: right;\n",
       "    }\n",
       "</style>\n",
       "<table border=\"1\" class=\"dataframe\">\n",
       "  <thead>\n",
       "    <tr style=\"text-align: right;\">\n",
       "      <th></th>\n",
       "      <th>Name</th>\n",
       "      <th>Description</th>\n",
       "      <th>Valid</th>\n",
       "      <th>Inclusions</th>\n",
       "      <th>ExcludesOne</th>\n",
       "      <th>ExcludesTwo</th>\n",
       "      <th>Type</th>\n",
       "      <th>Response</th>\n",
       "    </tr>\n",
       "  </thead>\n",
       "  <tbody>\n",
       "    <tr>\n",
       "      <th>0</th>\n",
       "      <td>U071</td>\n",
       "      <td>COVID-19, virus identified</td>\n",
       "      <td>1</td>\n",
       "      <td>[]</td>\n",
       "      <td>[]</td>\n",
       "      <td>[]</td>\n",
       "      <td>ICD-10-CM</td>\n",
       "      <td>True</td>\n",
       "    </tr>\n",
       "    <tr>\n",
       "      <th>1</th>\n",
       "      <td>F42</td>\n",
       "      <td>Obsessive-compulsive disorder</td>\n",
       "      <td>0</td>\n",
       "      <td>[]</td>\n",
       "      <td>[]</td>\n",
       "      <td>[obsessive-compulsive personality (disorder) (...</td>\n",
       "      <td>ICD-10-CM</td>\n",
       "      <td>True</td>\n",
       "    </tr>\n",
       "    <tr>\n",
       "      <th>2</th>\n",
       "      <td>093</td>\n",
       "      <td>Ear, Nose, Sinus, Control</td>\n",
       "      <td>0</td>\n",
       "      <td>NaN</td>\n",
       "      <td>NaN</td>\n",
       "      <td>NaN</td>\n",
       "      <td>ICD-10-PCS</td>\n",
       "      <td>True</td>\n",
       "    </tr>\n",
       "  </tbody>\n",
       "</table>\n",
       "</div>"
      ],
      "text/plain": [
       "   Name                    Description Valid Inclusions ExcludesOne  \\\n",
       "0  U071     COVID-19, virus identified     1         []          []   \n",
       "1   F42  Obsessive-compulsive disorder     0         []          []   \n",
       "2   093      Ear, Nose, Sinus, Control     0        NaN         NaN   \n",
       "\n",
       "                                         ExcludesTwo        Type Response  \n",
       "0                                                 []   ICD-10-CM     True  \n",
       "1  [obsessive-compulsive personality (disorder) (...   ICD-10-CM     True  \n",
       "2                                                NaN  ICD-10-PCS     True  "
      ]
     },
     "execution_count": 47,
     "metadata": {},
     "output_type": "execute_result"
    }
   ],
   "source": [
    "# Code\n",
    "import requests as req\n",
    "import pandas as pd \n",
    "\n",
    "url = \"http://icd10api.com/\"\n",
    "icd_codes = ['U071', 'F42', '093']\n",
    "\n",
    "response = []\n",
    "\n",
    "for code in icd_codes:\n",
    "    response.append(req.get(url + \"?code=\" + code + \"&desc=short&r=json\").json())\n",
    "    \n",
    "df = pd.DataFrame(response)\n",
    "df\n",
    "\n",
    "# Simple Data Types (String, Integer, Float, Binary,...)\n",
    "# Complex Data Types (List, Dict,...)\n",
    "# Data Frame (List of Dicts)\n",
    "\n"
   ]
  },
  {
   "cell_type": "markdown",
   "id": "67c3c7ee-3b3d-4763-a166-24953c6e30f1",
   "metadata": {},
   "source": [
    "## Data Types\n",
    "\n",
    "Currently if we look at the output, we are generating. It is three json formatted strings. Is this clever, if we would want to change the output format now or later?\n",
    "\n",
    "- Simple Data Types (String, Integer, Float, Binary,...)\n",
    "- Complex Data Types (List, Dict,...)\n",
    "- Data Frame (List of Dicts)"
   ]
  },
  {
   "cell_type": "markdown",
   "id": "bff5c020-8d62-4e54-97b8-213bfeb210af",
   "metadata": {},
   "source": [
    "### REUSE CODE"
   ]
  },
  {
   "cell_type": "code",
   "execution_count": 1,
   "id": "7adae8e9-7d44-43e3-8f6d-3141a9657e62",
   "metadata": {},
   "outputs": [
    {
     "name": "stdout",
     "output_type": "stream",
     "text": [
      "   Name                    Description Valid Inclusions ExcludesOne  \\\n",
      "0  U071     COVID-19, virus identified     1         []          []   \n",
      "1   F42  Obsessive-compulsive disorder     0         []          []   \n",
      "2   093      Ear, Nose, Sinus, Control     0        NaN         NaN   \n",
      "\n",
      "                                         ExcludesTwo        Type Response  \n",
      "0                                                 []   ICD-10-CM     True  \n",
      "1  [obsessive-compulsive personality (disorder) (...   ICD-10-CM     True  \n",
      "2                                                NaN  ICD-10-PCS     True  \n"
     ]
    }
   ],
   "source": [
    "# Code\n",
    "import requests as req\n",
    "import pandas as pd \n",
    "\n",
    "\n",
    "# This function will take a URL of a JSON web service, \n",
    "# and a list of identifiers (e.g. codes)\n",
    "# and return a data frame\n",
    "def get_codes(url, params, code_param, codes):\n",
    "    response = []\n",
    "    \n",
    "    for code in codes:\n",
    "        params[code_param] = code\n",
    "        response.append(req.get(url=url, params=params).json())\n",
    "    \n",
    "    df = pd.DataFrame(response)\n",
    "    print(df)\n",
    "\n",
    "\n",
    "# Metadata\n",
    "url = \"http://icd10api.com/\"\n",
    "params = {'code': '', 'desc': 'long', 'r': 'json'}\n",
    "code_param = 'code'\n",
    "\n",
    "# Data for requests\n",
    "codes = ['U071', 'F42', '093']\n",
    "\n",
    "get_codes(url, params, code_param, codes)"
   ]
  },
  {
   "cell_type": "code",
   "execution_count": null,
   "id": "3c4c3f24-c5a5-48f6-aa6f-e1bd532d9eee",
   "metadata": {},
   "outputs": [],
   "source": []
  }
 ],
 "metadata": {
  "kernelspec": {
   "display_name": "Python 3 (ipykernel)",
   "language": "python",
   "name": "python3"
  },
  "language_info": {
   "codemirror_mode": {
    "name": "ipython",
    "version": 3
   },
   "file_extension": ".py",
   "mimetype": "text/x-python",
   "name": "python",
   "nbconvert_exporter": "python",
   "pygments_lexer": "ipython3",
   "version": "3.8.12"
  }
 },
 "nbformat": 4,
 "nbformat_minor": 5
}
