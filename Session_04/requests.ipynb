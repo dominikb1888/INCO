{
 "cells": [
  {
   "cell_type": "code",
   "execution_count": null,
   "id": "3be0c019-4e62-4adb-a8f7-9fe944794a74",
   "metadata": {},
   "outputs": [],
   "source": [
    "import json\n",
    "import os\n",
    "import webbrowser\n",
    "\n",
    "from concurrent.futures import ThreadPoolExecutor\n",
    "\n",
    "import requests\n",
    "from dotenv import load_dotenv\n",
    "\n",
    "load_dotenv()\n",
    "\n",
    "GH_TOKEN = os.environ.get(\"GHTOKEN\")\n",
    "GH_USER = 'dominikb1888'\n",
    "GH_URL = \"https://api.github.com/orgs/DB-Student-Repos/repos?sort=pushed&direction=desc&per_page=100\"\n",
    "\n",
    "def get_commits(repo_urls):\n",
    "    commit_shas = []\n",
    "    for repo in repo_urls:\n",
    "        print(repo)\n",
    "        response = requests.get(f\"{repo}/commits\", auth=(GH_TOKEN, GH_USER))\n",
    "        commits = json.loads(response.text)\n",
    "        for commit in commits:\n",
    "            print(commit['sha'])\n",
    "            commit_shas.append(commit['sha'])\n",
    "\n",
    "\n",
    "#get first page of GH API\n",
    "response = requests.get(GH_URL, auth=(GH_TOKEN,GH_USER))\n",
    "print(response.text)\n",
    "# load json data as list of dicts\n",
    "json_response = json.loads(response.text)\n",
    "#with open(\"repos.json\") as f:\n",
    "#    json_response = json.load(f)\n",
    "\n",
    "#repo_urls = [repo.get('url') for repo in json_response]\n",
    "#print(repo_urls, len(repo_urls))\n",
    "\n",
    "commits = []\n",
    "with ThreadPoolExecutor() as executor:\n",
    "    print(repo_urls)\n",
    "    commits.append(list(executor.map(get_commits, [repo_urls], chunksize=10)))\n",
    "\n",
    "commits\n"
   ]
  },
  {
   "cell_type": "code",
   "execution_count": null,
   "id": "3bc412c2-a074-40ab-a98c-20b65cc56ee2",
   "metadata": {},
   "outputs": [],
   "source": [
    "import pandas as pd\n",
    "\n",
    "df = pd.DataFrame(commits)\n",
    "df\n"
   ]
  },
  {
   "cell_type": "code",
   "execution_count": null,
   "id": "f90e8790-6815-4a7d-a64d-93268968f5dd",
   "metadata": {},
   "outputs": [],
   "source": [
    "with open('repos.json') as f:\n",
    "    data = json.load(f)\n",
    "\n",
    "df = pd.DataFrame(data)\n",
    "#pd.json_normalize(df['owner'])\n",
    "df[['pushed_at','name','id','url']]"
   ]
  },
  {
   "cell_type": "code",
   "execution_count": null,
   "id": "248a9324-6fd1-4d1b-8b87-bb02c2bb818b",
   "metadata": {},
   "outputs": [],
   "source": [
    "status = []\n",
    "for url in list(df['url']):\n",
    "    activity = requests.get(f\"{url}/commits\", auth=(GH_TOKEN,GH_USER)).json()\n",
    "    status.append(activity)\n",
    "status"
   ]
  },
  {
   "cell_type": "code",
   "execution_count": null,
   "id": "8ade9853-fda5-4425-86a3-22025f032377",
   "metadata": {
    "editable": true,
    "slideshow": {
     "slide_type": ""
    },
    "tags": []
   },
   "outputs": [],
   "source": []
  },
  {
   "cell_type": "code",
   "execution_count": null,
   "id": "fd748767-2e97-40e4-8440-b37874ad8e5c",
   "metadata": {},
   "outputs": [],
   "source": []
  }
 ],
 "metadata": {
  "kernelspec": {
   "display_name": "Python 3 (ipykernel)",
   "language": "python",
   "name": "python3"
  },
  "language_info": {
   "codemirror_mode": {
    "name": "ipython",
    "version": 3
   },
   "file_extension": ".py",
   "mimetype": "text/x-python",
   "name": "python",
   "nbconvert_exporter": "python",
   "pygments_lexer": "ipython3",
   "version": "3.10.13"
  }
 },
 "nbformat": 4,
 "nbformat_minor": 5
}
